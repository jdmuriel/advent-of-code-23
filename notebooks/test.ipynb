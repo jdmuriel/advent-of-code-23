{
 "cells": [
  {
   "cell_type": "code",
   "execution_count": 1,
   "metadata": {},
   "outputs": [],
   "source": [
    "input_str = \"\"\"\n",
    "1000\n",
    "2000\n",
    "3000\n",
    "\n",
    "4000\n",
    "\n",
    "5000\n",
    "6000\n",
    "\n",
    "7000\n",
    "8000\n",
    "9000\n",
    "\n",
    "10000\n",
    "\"\"\""
   ]
  },
  {
   "cell_type": "code",
   "execution_count": 3,
   "metadata": {},
   "outputs": [],
   "source": [
    "# Split input string into a list of strings\n",
    "calorie_list = input_str.splitlines()\n",
    "\n",
    "# Initialize variables for maximum number of calories and Elf with maximum number of calories\n",
    "max_calories = 0\n",
    "max_calorie_elf = 0\n",
    "\n",
    "# Initialize variable for total calories for current Elf\n",
    "total_calories = 0\n",
    "\n"
   ]
  },
  {
   "cell_type": "code",
   "execution_count": 4,
   "metadata": {},
   "outputs": [],
   "source": [
    "# Iterate through calorie_list\n",
    "for calorie in calorie_list:\n",
    "    # If calorie is an empty string, reset total_calories and continue to next iteration\n",
    "    if calorie == \"\":\n",
    "        total_calories = 0\n",
    "        continue\n",
    "\n",
    "    # Add calorie to total_calories\n",
    "    total_calories += int(calorie)\n",
    "\n",
    "    # If total_calories is greater than max_calories, update max_calories and max_calorie_elf\n",
    "    if total_calories > max_calories:\n",
    "        max_calories = total_calories\n",
    "        max_calorie_elf = calorie\n",
    "\n"
   ]
  },
  {
   "cell_type": "code",
   "execution_count": 5,
   "metadata": {},
   "outputs": [
    {
     "name": "stdout",
     "output_type": "stream",
     "text": [
      "24000\n"
     ]
    }
   ],
   "source": [
    "# Print number of calories carried by Elf with maximum number of calories\n",
    "print(max_calories)"
   ]
  }
 ],
 "metadata": {
  "kernelspec": {
   "display_name": "Python 3",
   "language": "python",
   "name": "python3"
  },
  "language_info": {
   "codemirror_mode": {
    "name": "ipython",
    "version": 3
   },
   "file_extension": ".py",
   "mimetype": "text/x-python",
   "name": "python",
   "nbconvert_exporter": "python",
   "pygments_lexer": "ipython3",
   "version": "3.10.13"
  }
 },
 "nbformat": 4,
 "nbformat_minor": 2
}
