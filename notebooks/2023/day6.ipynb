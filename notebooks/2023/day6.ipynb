{
 "cells": [
  {
   "cell_type": "code",
   "execution_count": 6,
   "metadata": {},
   "outputs": [
    {
     "data": {
      "text/plain": [
       "[302, 1476, 1029, 1404]"
      ]
     },
     "execution_count": 6,
     "metadata": {},
     "output_type": "execute_result"
    }
   ],
   "source": [
    "import re\n",
    "input = \"\"\"Time:        54     94     65     92\n",
    "Distance:   302   1476   1029   1404\n",
    "\"\"\"\n",
    "\n",
    "lines = input.splitlines()\n",
    "times = [ int(x) for x in re.split('\\s+',lines[0][5:]) if x>'']\n",
    "distances = [ int(x) for x in re.split('\\s+',lines[1][9:]) if x>'']\n",
    "distances\n"
   ]
  },
  {
   "cell_type": "code",
   "execution_count": 10,
   "metadata": {},
   "outputs": [
    {
     "name": "stdout",
     "output_type": "stream",
     "text": [
      "race 1: time 7 gets 10m, better than record 9\n",
      "race 1: time 7 gets 12m, better than record 9\n",
      "race 1: time 7 gets 12m, better than record 9\n",
      "race 1: time 7 gets 10m, better than record 9\n",
      "race 2: time 15 gets 44m, better than record 40\n",
      "race 2: time 15 gets 50m, better than record 40\n",
      "race 2: time 15 gets 54m, better than record 40\n",
      "race 2: time 15 gets 56m, better than record 40\n",
      "race 2: time 15 gets 56m, better than record 40\n",
      "race 2: time 15 gets 54m, better than record 40\n",
      "race 2: time 15 gets 50m, better than record 40\n",
      "race 2: time 15 gets 44m, better than record 40\n",
      "race 3: time 30 gets 209m, better than record 200\n",
      "race 3: time 30 gets 216m, better than record 200\n",
      "race 3: time 30 gets 221m, better than record 200\n",
      "race 3: time 30 gets 224m, better than record 200\n",
      "race 3: time 30 gets 225m, better than record 200\n",
      "race 3: time 30 gets 224m, better than record 200\n",
      "race 3: time 30 gets 221m, better than record 200\n",
      "race 3: time 30 gets 216m, better than record 200\n",
      "race 3: time 30 gets 209m, better than record 200\n"
     ]
    },
    {
     "data": {
      "text/plain": [
       "9"
      ]
     },
     "execution_count": 10,
     "metadata": {},
     "output_type": "execute_result"
    }
   ],
   "source": [
    "def calc(race:int, time:int, mindistance:int) :\n",
    "    ways=0\n",
    "    for i in range(1,time+1):\n",
    "        # t seconds of acceleration, time-i seconds of velocity\n",
    "        distance = (time-i)*i\n",
    "        if distance>mindistance:\n",
    "            print(f\"race {race}: time {time} gets {distance}m, better than record {mindistance}\")\n",
    "            ways += 1\n",
    "    return ways\n",
    "\n",
    "calc(1,7,9)\n",
    "calc(2,15,40)\n",
    "calc(3,30,200)\n",
    "\n"
   ]
  },
  {
   "cell_type": "code",
   "execution_count": 11,
   "metadata": {},
   "outputs": [
    {
     "name": "stdout",
     "output_type": "stream",
     "text": [
      "race 0: time 54 gets 329m, better than record 302\n",
      "race 0: time 54 gets 368m, better than record 302\n",
      "race 0: time 54 gets 405m, better than record 302\n",
      "race 0: time 54 gets 440m, better than record 302\n",
      "race 0: time 54 gets 473m, better than record 302\n",
      "race 0: time 54 gets 504m, better than record 302\n",
      "race 0: time 54 gets 533m, better than record 302\n",
      "race 0: time 54 gets 560m, better than record 302\n",
      "race 0: time 54 gets 585m, better than record 302\n",
      "race 0: time 54 gets 608m, better than record 302\n",
      "race 0: time 54 gets 629m, better than record 302\n",
      "race 0: time 54 gets 648m, better than record 302\n",
      "race 0: time 54 gets 665m, better than record 302\n",
      "race 0: time 54 gets 680m, better than record 302\n",
      "race 0: time 54 gets 693m, better than record 302\n",
      "race 0: time 54 gets 704m, better than record 302\n",
      "race 0: time 54 gets 713m, better than record 302\n",
      "race 0: time 54 gets 720m, better than record 302\n",
      "race 0: time 54 gets 725m, better than record 302\n",
      "race 0: time 54 gets 728m, better than record 302\n",
      "race 0: time 54 gets 729m, better than record 302\n",
      "race 0: time 54 gets 728m, better than record 302\n",
      "race 0: time 54 gets 725m, better than record 302\n",
      "race 0: time 54 gets 720m, better than record 302\n",
      "race 0: time 54 gets 713m, better than record 302\n",
      "race 0: time 54 gets 704m, better than record 302\n",
      "race 0: time 54 gets 693m, better than record 302\n",
      "race 0: time 54 gets 680m, better than record 302\n",
      "race 0: time 54 gets 665m, better than record 302\n",
      "race 0: time 54 gets 648m, better than record 302\n",
      "race 0: time 54 gets 629m, better than record 302\n",
      "race 0: time 54 gets 608m, better than record 302\n",
      "race 0: time 54 gets 585m, better than record 302\n",
      "race 0: time 54 gets 560m, better than record 302\n",
      "race 0: time 54 gets 533m, better than record 302\n",
      "race 0: time 54 gets 504m, better than record 302\n",
      "race 0: time 54 gets 473m, better than record 302\n",
      "race 0: time 54 gets 440m, better than record 302\n",
      "race 0: time 54 gets 405m, better than record 302\n",
      "race 0: time 54 gets 368m, better than record 302\n",
      "race 0: time 54 gets 329m, better than record 302\n",
      "race {i} winnable in {ways} ways\n",
      "race 1: time 94 gets 1480m, better than record 1476\n",
      "race 1: time 94 gets 1533m, better than record 1476\n",
      "race 1: time 94 gets 1584m, better than record 1476\n",
      "race 1: time 94 gets 1633m, better than record 1476\n",
      "race 1: time 94 gets 1680m, better than record 1476\n",
      "race 1: time 94 gets 1725m, better than record 1476\n",
      "race 1: time 94 gets 1768m, better than record 1476\n",
      "race 1: time 94 gets 1809m, better than record 1476\n",
      "race 1: time 94 gets 1848m, better than record 1476\n",
      "race 1: time 94 gets 1885m, better than record 1476\n",
      "race 1: time 94 gets 1920m, better than record 1476\n",
      "race 1: time 94 gets 1953m, better than record 1476\n",
      "race 1: time 94 gets 1984m, better than record 1476\n",
      "race 1: time 94 gets 2013m, better than record 1476\n",
      "race 1: time 94 gets 2040m, better than record 1476\n",
      "race 1: time 94 gets 2065m, better than record 1476\n",
      "race 1: time 94 gets 2088m, better than record 1476\n",
      "race 1: time 94 gets 2109m, better than record 1476\n",
      "race 1: time 94 gets 2128m, better than record 1476\n",
      "race 1: time 94 gets 2145m, better than record 1476\n",
      "race 1: time 94 gets 2160m, better than record 1476\n",
      "race 1: time 94 gets 2173m, better than record 1476\n",
      "race 1: time 94 gets 2184m, better than record 1476\n",
      "race 1: time 94 gets 2193m, better than record 1476\n",
      "race 1: time 94 gets 2200m, better than record 1476\n",
      "race 1: time 94 gets 2205m, better than record 1476\n",
      "race 1: time 94 gets 2208m, better than record 1476\n",
      "race 1: time 94 gets 2209m, better than record 1476\n",
      "race 1: time 94 gets 2208m, better than record 1476\n",
      "race 1: time 94 gets 2205m, better than record 1476\n",
      "race 1: time 94 gets 2200m, better than record 1476\n",
      "race 1: time 94 gets 2193m, better than record 1476\n",
      "race 1: time 94 gets 2184m, better than record 1476\n",
      "race 1: time 94 gets 2173m, better than record 1476\n",
      "race 1: time 94 gets 2160m, better than record 1476\n",
      "race 1: time 94 gets 2145m, better than record 1476\n",
      "race 1: time 94 gets 2128m, better than record 1476\n",
      "race 1: time 94 gets 2109m, better than record 1476\n",
      "race 1: time 94 gets 2088m, better than record 1476\n",
      "race 1: time 94 gets 2065m, better than record 1476\n",
      "race 1: time 94 gets 2040m, better than record 1476\n",
      "race 1: time 94 gets 2013m, better than record 1476\n",
      "race 1: time 94 gets 1984m, better than record 1476\n",
      "race 1: time 94 gets 1953m, better than record 1476\n",
      "race 1: time 94 gets 1920m, better than record 1476\n",
      "race 1: time 94 gets 1885m, better than record 1476\n",
      "race 1: time 94 gets 1848m, better than record 1476\n",
      "race 1: time 94 gets 1809m, better than record 1476\n",
      "race 1: time 94 gets 1768m, better than record 1476\n",
      "race 1: time 94 gets 1725m, better than record 1476\n",
      "race 1: time 94 gets 1680m, better than record 1476\n",
      "race 1: time 94 gets 1633m, better than record 1476\n",
      "race 1: time 94 gets 1584m, better than record 1476\n",
      "race 1: time 94 gets 1533m, better than record 1476\n",
      "race 1: time 94 gets 1480m, better than record 1476\n",
      "race {i} winnable in {ways} ways\n",
      "race 2: time 65 gets 1036m, better than record 1029\n",
      "race 2: time 65 gets 1044m, better than record 1029\n",
      "race 2: time 65 gets 1050m, better than record 1029\n",
      "race 2: time 65 gets 1054m, better than record 1029\n",
      "race 2: time 65 gets 1056m, better than record 1029\n",
      "race 2: time 65 gets 1056m, better than record 1029\n",
      "race 2: time 65 gets 1054m, better than record 1029\n",
      "race 2: time 65 gets 1050m, better than record 1029\n",
      "race 2: time 65 gets 1044m, better than record 1029\n",
      "race 2: time 65 gets 1036m, better than record 1029\n",
      "race {i} winnable in {ways} ways\n",
      "race 3: time 92 gets 1440m, better than record 1404\n",
      "race 3: time 92 gets 1491m, better than record 1404\n",
      "race 3: time 92 gets 1540m, better than record 1404\n",
      "race 3: time 92 gets 1587m, better than record 1404\n",
      "race 3: time 92 gets 1632m, better than record 1404\n",
      "race 3: time 92 gets 1675m, better than record 1404\n",
      "race 3: time 92 gets 1716m, better than record 1404\n",
      "race 3: time 92 gets 1755m, better than record 1404\n",
      "race 3: time 92 gets 1792m, better than record 1404\n",
      "race 3: time 92 gets 1827m, better than record 1404\n",
      "race 3: time 92 gets 1860m, better than record 1404\n",
      "race 3: time 92 gets 1891m, better than record 1404\n",
      "race 3: time 92 gets 1920m, better than record 1404\n",
      "race 3: time 92 gets 1947m, better than record 1404\n",
      "race 3: time 92 gets 1972m, better than record 1404\n",
      "race 3: time 92 gets 1995m, better than record 1404\n",
      "race 3: time 92 gets 2016m, better than record 1404\n",
      "race 3: time 92 gets 2035m, better than record 1404\n",
      "race 3: time 92 gets 2052m, better than record 1404\n",
      "race 3: time 92 gets 2067m, better than record 1404\n",
      "race 3: time 92 gets 2080m, better than record 1404\n",
      "race 3: time 92 gets 2091m, better than record 1404\n",
      "race 3: time 92 gets 2100m, better than record 1404\n",
      "race 3: time 92 gets 2107m, better than record 1404\n",
      "race 3: time 92 gets 2112m, better than record 1404\n",
      "race 3: time 92 gets 2115m, better than record 1404\n",
      "race 3: time 92 gets 2116m, better than record 1404\n",
      "race 3: time 92 gets 2115m, better than record 1404\n",
      "race 3: time 92 gets 2112m, better than record 1404\n",
      "race 3: time 92 gets 2107m, better than record 1404\n",
      "race 3: time 92 gets 2100m, better than record 1404\n",
      "race 3: time 92 gets 2091m, better than record 1404\n",
      "race 3: time 92 gets 2080m, better than record 1404\n",
      "race 3: time 92 gets 2067m, better than record 1404\n",
      "race 3: time 92 gets 2052m, better than record 1404\n",
      "race 3: time 92 gets 2035m, better than record 1404\n",
      "race 3: time 92 gets 2016m, better than record 1404\n",
      "race 3: time 92 gets 1995m, better than record 1404\n",
      "race 3: time 92 gets 1972m, better than record 1404\n",
      "race 3: time 92 gets 1947m, better than record 1404\n",
      "race 3: time 92 gets 1920m, better than record 1404\n",
      "race 3: time 92 gets 1891m, better than record 1404\n",
      "race 3: time 92 gets 1860m, better than record 1404\n",
      "race 3: time 92 gets 1827m, better than record 1404\n",
      "race 3: time 92 gets 1792m, better than record 1404\n",
      "race 3: time 92 gets 1755m, better than record 1404\n",
      "race 3: time 92 gets 1716m, better than record 1404\n",
      "race 3: time 92 gets 1675m, better than record 1404\n",
      "race 3: time 92 gets 1632m, better than record 1404\n",
      "race 3: time 92 gets 1587m, better than record 1404\n",
      "race 3: time 92 gets 1540m, better than record 1404\n",
      "race 3: time 92 gets 1491m, better than record 1404\n",
      "race 3: time 92 gets 1440m, better than record 1404\n",
      "race {i} winnable in {ways} ways\n"
     ]
    },
    {
     "data": {
      "text/plain": [
       "1195150"
      ]
     },
     "execution_count": 11,
     "metadata": {},
     "output_type": "execute_result"
    }
   ],
   "source": [
    "solution=1\n",
    "for i in range(0,len(times)):\n",
    "    ways = calc(i,times[i], distances[i])\n",
    "    print (f\"race {i} winnable in {ways} ways\")\n",
    "    solution = solution*ways\n",
    "solution"
   ]
  },
  {
   "cell_type": "code",
   "execution_count": 15,
   "metadata": {},
   "outputs": [
    {
     "data": {
      "text/plain": [
       "'esto es una prueba 549,465,820'"
      ]
     },
     "execution_count": 15,
     "metadata": {},
     "output_type": "execute_result"
    }
   ],
   "source": [
    "time=54946592\n",
    "distance=302147610291404\n",
    "\n",
    "def get_distance(t):\n",
    "    return t*(time-t)\n",
    "\n",
    "get_distance(10)"
   ]
  },
  {
   "cell_type": "code",
   "execution_count": 45,
   "metadata": {},
   "outputs": [
    {
     "name": "stdout",
     "output_type": "stream",
     "text": [
      "distance for t=13,736,648.0 is 566,086,494,827,712.0, reducing interval 1-27,473,296.0 to 1,13,736,648.0\n",
      "distance for t=6,868,324.0 is 330,217,121,982,832.0, reducing interval 1-13,736,648.0 to 1,6,868,324.0\n",
      "distance for t=3,434,162.0 is 176,902,029,633,660.0, reducing interval 1-6,868,324.0 to 3,434,162.0,6,868,324.0\n",
      "distance for t=5,151,243.0 is 256,507,942,968,807.0, reducing interval 3,434,162.0-6,868,324.0 to 5,151,243.0,6,868,324.0\n",
      "distance for t=6,009,783.0 is 294,099,602,802,447.0, reducing interval 5,151,243.0-6,868,324.0 to 6,009,783.0,6,868,324.0\n",
      "distance for t=6,439,053.0 is 312,342,614,520,567.0, reducing interval 6,009,783.0-6,868,324.0 to 6,009,783.0,6,439,053.0\n",
      "distance for t=6,224,418.0 is 303,267,176,844,732.0, reducing interval 6,009,783.0-6,439,053.0 to 6,009,783.0,6,224,418.0\n",
      "distance for t=6,117,100.0 is 298,694,885,513,200.0, reducing interval 6,009,783.0-6,224,418.0 to 6,117,100.0,6,224,418.0\n",
      "distance for t=6,170,759.0 is 300,983,910,467,247.0, reducing interval 6,117,100.0-6,224,418.0 to 6,170,759.0,6,224,418.0\n",
      "distance for t=6,197,588.0 is 302,126,242,202,352.0, reducing interval 6,170,759.0-6,224,418.0 to 6,197,588.0,6,224,418.0\n",
      "distance for t=6,211,003.0 is 302,696,889,485,767.0, reducing interval 6,197,588.0-6,224,418.0 to 6,197,588.0,6,211,003.0\n",
      "distance for t=6,204,295.0 is 302,411,589,565,615.0, reducing interval 6,197,588.0-6,211,003.0 to 6,197,588.0,6,204,295.0\n",
      "distance for t=6,200,941.0 is 302,268,905,857,591.0, reducing interval 6,197,588.0-6,204,295.0 to 6,197,588.0,6,200,941.0\n",
      "distance for t=6,199,264.0 is 302,197,555,566,592.0, reducing interval 6,197,588.0-6,200,941.0 to 6,197,588.0,6,199,264.0\n",
      "distance for t=6,198,426.0 is 302,161,899,586,716.0, reducing interval 6,197,588.0-6,199,264.0 to 6,197,588.0,6,198,426.0\n",
      "distance for t=6,198,007.0 is 302,144,071,070,095.0, reducing interval 6,197,588.0-6,198,426.0 to 6,198,007.0,6,198,426.0\n",
      "distance for t=6,198,216.0 is 302,152,964,097,216.0, reducing interval 6,198,007.0-6,198,426.0 to 6,198,007.0,6,198,216.0\n",
      "distance for t=6,198,111.0 is 302,148,496,319,391.0, reducing interval 6,198,007.0-6,198,216.0 to 6,198,007.0,6,198,111.0\n",
      "distance for t=6,198,059.0 is 302,146,283,697,447.0, reducing interval 6,198,007.0-6,198,111.0 to 6,198,059.0,6,198,111.0\n",
      "distance for t=6,198,085.0 is 302,147,390,009,095.0, reducing interval 6,198,059.0-6,198,111.0 to 6,198,085.0,6,198,111.0\n",
      "distance for t=6,198,098.0 is 302,147,943,164,412.0, reducing interval 6,198,085.0-6,198,111.0 to 6,198,085.0,6,198,098.0\n",
      "distance for t=6,198,091.0 is 302,147,645,311,591.0, reducing interval 6,198,085.0-6,198,098.0 to 6,198,085.0,6,198,091.0\n",
      "distance for t=6,198,088.0 is 302,147,517,660,352.0, reducing interval 6,198,085.0-6,198,091.0 to 6,198,088.0,6,198,091.0\n",
      "distance for t=6,198,089.0 is 302,147,560,210,767.0, reducing interval 6,198,088.0-6,198,091.0 to 6,198,089.0,6,198,091.0\n",
      "distance for t=6,198,090.0 is 302,147,602,761,180.0, reducing interval 6,198,089.0-6,198,091.0 to 6,198,090.0,6,198,091.0\n"
     ]
    }
   ],
   "source": [
    "# binary search to find first time in interval such that get_distance(t)<distance and get_distance(t-1)\n",
    "found = False\n",
    "interval = [1,54946592/2]\n",
    "while (interval[1]-interval[0]>=2):\n",
    "    middle=(interval[0]+interval[1]) // 2\n",
    "    if get_distance(middle) > distance:\n",
    "        print(f\"distance for t={middle:,} is {get_distance(middle):,}, reducing interval {interval[0]:,}-{interval[1]:,} to {interval[0]:,},{middle:,}\")\n",
    "        interval[1]=middle\n",
    "    else:\n",
    "        print(f\"distance for t={middle:,} is {get_distance(middle):,}, reducing interval {interval[0]:,}-{interval[1]:,} to {middle:,},{interval[1]:,}\")\n",
    "        interval[0]=middle\n",
    "\n"
   ]
  },
  {
   "cell_type": "code",
   "execution_count": 48,
   "metadata": {},
   "outputs": [
    {
     "data": {
      "text/plain": [
       "True"
      ]
     },
     "execution_count": 48,
     "metadata": {},
     "output_type": "execute_result"
    }
   ],
   "source": [
    "interval\n",
    "get_distance(interval[1])>distance"
   ]
  },
  {
   "cell_type": "code",
   "execution_count": 49,
   "metadata": {},
   "outputs": [
    {
     "data": {
      "text/plain": [
       "6198091"
      ]
     },
     "execution_count": 49,
     "metadata": {},
     "output_type": "execute_result"
    }
   ],
   "source": [
    "get_distance(interval[1])>distance\n",
    "interval[1]\n",
    "# first winning slot is 6198091\n",
    "first_winning_slot= int(interval[1])\n",
    "first_winning_slot\n",
    "\n",
    "\n"
   ]
  },
  {
   "cell_type": "code",
   "execution_count": 50,
   "metadata": {},
   "outputs": [
    {
     "name": "stdout",
     "output_type": "stream",
     "text": [
      "distance for t=41,209,944.0 is 566,086,494,827,712.0, reducing interval 27,473,296.0-54,946,592 to 41,209,944.0,54,946,592\n",
      "distance for t=48,078,268.0 is 330,217,121,982,832.0, reducing interval 41,209,944.0-54,946,592 to 48,078,268.0,54,946,592\n",
      "distance for t=51,512,430.0 is 176,902,029,633,660.0, reducing interval 48,078,268.0-54,946,592 to 48,078,268.0,51,512,430.0\n",
      "distance for t=49,795,349.0 is 256,507,942,968,807.0, reducing interval 48,078,268.0-51,512,430.0 to 48,078,268.0,49,795,349.0\n",
      "distance for t=48,936,808.0 is 294,099,645,729,472.0, reducing interval 48,078,268.0-49,795,349.0 to 48,078,268.0,48,936,808.0\n",
      "distance for t=48,507,538.0 is 312,342,656,589,052.0, reducing interval 48,078,268.0-48,936,808.0 to 48,507,538.0,48,936,808.0\n",
      "distance for t=48,722,173.0 is 303,267,219,342,487.0, reducing interval 48,507,538.0-48,936,808.0 to 48,722,173.0,48,936,808.0\n",
      "distance for t=48,829,490.0 is 298,694,970,937,980.0, reducing interval 48,722,173.0-48,936,808.0 to 48,722,173.0,48,829,490.0\n",
      "distance for t=48,775,831.0 is 300,983,995,677,391.0, reducing interval 48,722,173.0-48,829,490.0 to 48,722,173.0,48,775,831.0\n",
      "distance for t=48,749,002.0 is 302,126,327,305,180.0, reducing interval 48,722,173.0-48,775,831.0 to 48,722,173.0,48,749,002.0\n",
      "distance for t=48,735,587.0 is 302,696,974,534,935.0, reducing interval 48,722,173.0-48,749,002.0 to 48,735,587.0,48,749,002.0\n",
      "distance for t=48,742,294.0 is 302,411,717,179,612.0, reducing interval 48,735,587.0-48,749,002.0 to 48,742,294.0,48,749,002.0\n",
      "distance for t=48,745,648.0 is 302,269,033,491,712.0, reducing interval 48,742,294.0-48,749,002.0 to 48,745,648.0,48,749,002.0\n",
      "distance for t=48,747,325.0 is 302,197,683,210,775.0, reducing interval 48,745,648.0-48,749,002.0 to 48,747,325.0,48,749,002.0\n",
      "distance for t=48,748,163.0 is 302,162,027,235,927.0, reducing interval 48,747,325.0-48,749,002.0 to 48,748,163.0,48,749,002.0\n",
      "distance for t=48,748,582.0 is 302,144,198,721,820.0, reducing interval 48,748,163.0-48,749,002.0 to 48,748,163.0,48,748,582.0\n",
      "distance for t=48,748,372.0 is 302,153,134,297,840.0, reducing interval 48,748,163.0-48,748,582.0 to 48,748,372.0,48,748,582.0\n",
      "distance for t=48,748,477.0 is 302,148,666,520,855.0, reducing interval 48,748,372.0-48,748,582.0 to 48,748,477.0,48,748,582.0\n",
      "distance for t=48,748,529.0 is 302,146,453,899,327.0, reducing interval 48,748,477.0-48,748,582.0 to 48,748,477.0,48,748,529.0\n",
      "distance for t=48,748,503.0 is 302,147,560,210,767.0, reducing interval 48,748,477.0-48,748,529.0 to 48,748,477.0,48,748,503.0\n",
      "distance for t=48,748,490.0 is 302,148,113,365,980.0, reducing interval 48,748,477.0-48,748,503.0 to 48,748,490.0,48,748,503.0\n",
      "distance for t=48,748,496.0 is 302,147,858,063,616.0, reducing interval 48,748,490.0-48,748,503.0 to 48,748,496.0,48,748,503.0\n",
      "distance for t=48,748,499.0 is 302,147,730,412,407.0, reducing interval 48,748,496.0-48,748,503.0 to 48,748,499.0,48,748,503.0\n",
      "distance for t=48,748,501.0 is 302,147,645,311,591.0, reducing interval 48,748,499.0-48,748,503.0 to 48,748,501.0,48,748,503.0\n",
      "distance for t=48,748,502.0 is 302,147,602,761,180.0, reducing interval 48,748,501.0-48,748,503.0 to 48,748,501.0,48,748,502.0\n"
     ]
    }
   ],
   "source": [
    "#Found time for which we pass from winning to losing\n",
    "found = False\n",
    "interval = [54946592/2,54946592]\n",
    "while (interval[1]-interval[0]>=2):\n",
    "    middle=(interval[0]+interval[1]) // 2\n",
    "    if get_distance(middle) < distance:\n",
    "        print(f\"distance for t={middle:,} is {get_distance(middle):,}, reducing interval {interval[0]:,}-{interval[1]:,} to {interval[0]:,},{middle:,}\")\n",
    "        interval[1]=middle\n",
    "    else:\n",
    "        print(f\"distance for t={middle:,} is {get_distance(middle):,}, reducing interval {interval[0]:,}-{interval[1]:,} to {middle:,},{interval[1]:,}\")\n",
    "        interval[0]=middle"
   ]
  },
  {
   "cell_type": "code",
   "execution_count": 51,
   "metadata": {},
   "outputs": [
    {
     "data": {
      "text/plain": [
       "[48748501.0, 48748502.0]"
      ]
     },
     "execution_count": 51,
     "metadata": {},
     "output_type": "execute_result"
    }
   ],
   "source": [
    "interval"
   ]
  },
  {
   "cell_type": "code",
   "execution_count": 54,
   "metadata": {},
   "outputs": [
    {
     "data": {
      "text/plain": [
       "48748501.0"
      ]
     },
     "execution_count": 54,
     "metadata": {},
     "output_type": "execute_result"
    }
   ],
   "source": [
    "get_distance(interval[1])>distance\n",
    "last_winning_slot = interval[0]\n",
    "last_winning_slot"
   ]
  },
  {
   "cell_type": "code",
   "execution_count": 56,
   "metadata": {},
   "outputs": [
    {
     "data": {
      "text/plain": [
       "(6198091, 48748501.0)"
      ]
     },
     "execution_count": 56,
     "metadata": {},
     "output_type": "execute_result"
    }
   ],
   "source": [
    "(first_winning_slot, last_winning_slot)"
   ]
  },
  {
   "cell_type": "code",
   "execution_count": 57,
   "metadata": {},
   "outputs": [
    {
     "data": {
      "text/plain": [
       "42550411.0"
      ]
     },
     "execution_count": 57,
     "metadata": {},
     "output_type": "execute_result"
    }
   ],
   "source": [
    "last_winning_slot-first_winning_slot+1"
   ]
  }
 ],
 "metadata": {
  "kernelspec": {
   "display_name": "Python 3",
   "language": "python",
   "name": "python3"
  },
  "language_info": {
   "codemirror_mode": {
    "name": "ipython",
    "version": 3
   },
   "file_extension": ".py",
   "mimetype": "text/x-python",
   "name": "python",
   "nbconvert_exporter": "python",
   "pygments_lexer": "ipython3",
   "version": "3.10.13"
  }
 },
 "nbformat": 4,
 "nbformat_minor": 2
}
