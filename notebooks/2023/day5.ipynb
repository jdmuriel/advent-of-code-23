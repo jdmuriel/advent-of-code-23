{
 "cells": [
  {
   "cell_type": "code",
   "execution_count": 2,
   "metadata": {},
   "outputs": [],
   "source": [
    "import os\n",
    "import re\n",
    "file_path = os.path.join(os.curdir, \"day5.txt\")\n",
    "with open(file_path) as file:\n",
    "    lines = file.readlines()\n",
    "\n",
    "f\"line count:{len(lines)}, first line:{lines[0]}\"\n",
    "\n",
    "seeds = []\n",
    "seedToSoil=[]\n",
    "soilToFertilizer=[]\n",
    "fertilizerToWater=[]\n",
    "waterToLight=[]\n",
    "lightToTemperature=[]\n",
    "temperatureToHumidity=[]\n",
    "humidityToLocation=[]\n",
    "current_list=seedToSoil\n",
    "\n",
    "maps = (seedToSoil, soilToFertilizer, fertilizerToWater, waterToLight, lightToTemperature, temperatureToHumidity, humidityToLocation)\n",
    "\n",
    "for line in lines:\n",
    "    line = line.replace('\\n','')\n",
    "    if line == '':\n",
    "        # do nothing\n",
    "        pass\n",
    "    elif \"seeds:\" in line:\n",
    "        ignore, seeds= line.split(': ')\n",
    "        seeds = [int(x) for x in re.split('\\s+',seeds)]\n",
    "    elif \"seed-to-soil\" in line:\n",
    "        current_list = seedToSoil\n",
    "    elif \"soil-to-fertilizer\" in line: \n",
    "        current_list = soilToFertilizer\n",
    "    elif \"fertilizer-to-water\" in line:\n",
    "        current_list = fertilizerToWater\n",
    "    elif \"water-to-light\" in line:\n",
    "        current_list = waterToLight\n",
    "    elif \"light-to-temperature\" in line:\n",
    "        current_list = lightToTemperature\n",
    "    elif \"temperature-to-humidity\" in line:\n",
    "        current_list = temperatureToHumidity\n",
    "    elif \"humidity-to-location\" in line:\n",
    "        current_list = humidityToLocation\n",
    "    else:\n",
    "        triple = [int(x) for x in re.split('\\s+',line)]\n",
    "        current_list.append((triple[1],triple[1]+triple[2],triple[0]-triple[1]))\n",
    "\n",
    "for map in maps:\n",
    "    map.sort(key = lambda x: x[0])\n",
    "\n",
    "def get_destination(input:int, transformation:list):\n",
    "    # transformation is a list of elements (start, stop, adjustment)\n",
    "    for (start, stop, adjustment) in transformation:\n",
    "        if input >= start and input < stop:\n",
    "            return input + adjustment\n",
    "    return input\n",
    "\n",
    "def get_seed_location(seed:int):\n",
    "    soil = get_destination(seed, seedToSoil)\n",
    "    fertilizer = get_destination(soil, soilToFertilizer)\n",
    "    water = get_destination(fertilizer, fertilizerToWater)\n",
    "    light = get_destination(water, waterToLight)\n",
    "    temperature = get_destination(light, lightToTemperature)\n",
    "    humidity = get_destination(temperature, temperatureToHumidity)\n",
    "    location = get_destination(humidity, humidityToLocation)\n",
    "    print (f\"seed {seed} -> soil {soil} -> fertilizer {fertilizer} -> water {water} -> light {light} -> temperature {temperature} -> humidity {humidity} -> location {location}\")\n",
    "    return location"
   ]
  },
  {
   "cell_type": "code",
   "execution_count": 3,
   "metadata": {},
   "outputs": [
    {
     "data": {
      "text/plain": [
       "[(0, 30205504, 1676805237),\n",
       " (30205504, 40484395, 623407810),\n",
       " (40484395, 47881164, 2134673684),\n",
       " (47881164, 119263604, 928429808),\n",
       " (119263604, 152109447, 702143365),\n",
       " (152109447, 205304468, 1107750691),\n",
       " (205304468, 215530327, 521310794),\n",
       " (215530327, 300096175, 521310794),\n",
       " (300096175, 593966122, 59647192),\n",
       " (593966122, 639773948, 887171146),\n",
       " (639773948, 789634091, 887171146),\n",
       " (789634091, 852357148, -125741886),\n",
       " (852357148, 897903253, 361956885),\n",
       " (897903253, 1019532784, 1284651595),\n",
       " (1019532784, 1324512830, 1284651595),\n",
       " (1324512830, 1364566318, 105629207),\n",
       " (1364566318, 1375508061, 105629207),\n",
       " (1375508061, 1457767969, 398451834),\n",
       " (1457767969, 1565835729, -603515157),\n",
       " (1565835729, 1732456350, -518142317),\n",
       " (1732456350, 1750403060, 23556835),\n",
       " (1750403060, 1773419829, 858761365),\n",
       " (1773419829, 1842095595, -1482352228),\n",
       " (1842095595, 2133163196, -1842095595),\n",
       " (2133163196, 2194936925, -85281265),\n",
       " (2194936925, 2260439344, -85281265),\n",
       " (2260439344, 2274429744, -1298118772),\n",
       " (2274429744, 2466091872, -418209941),\n",
       " (2466091872, 2515094316, -759081131),\n",
       " (2515094316, 2632181194, -1202039157),\n",
       " (2658645540, 2806460975, 109707051),\n",
       " (2806460975, 2891251077, 1403716219),\n",
       " (2891251077, 3065500897, 515688215),\n",
       " (3065500897, 3175207948, -406855357),\n",
       " (3175207948, 3400256813, 774220656),\n",
       " (3400256813, 3416874628, 447346985),\n",
       " (3416874628, 3424865230, -17925938),\n",
       " (3424865230, 3668516433, 156323882),\n",
       " (3668516433, 3704216158, 505961036),\n",
       " (3704216158, 3822582006, -785535249),\n",
       " (3822582006, 3907788997, 41639607),\n",
       " (3907788997, 3910301880, -991620971),\n",
       " (3910301880, 3933065363, -85461565),\n",
       " (3933065363, 4294967296, -896018606)]"
      ]
     },
     "execution_count": 3,
     "metadata": {},
     "output_type": "execute_result"
    }
   ],
   "source": [
    "lightToTemperature"
   ]
  },
  {
   "cell_type": "code",
   "execution_count": 4,
   "metadata": {},
   "outputs": [
    {
     "name": "stdout",
     "output_type": "stream",
     "text": [
      "seed 79 -> soil 79 -> fertilizer 1026018715 -> water 617390302 -> light 751513094 -> temperature 1638684240 -> humidity 1638684240 -> location 370885370\n"
     ]
    },
    {
     "data": {
      "text/plain": [
       "370885370"
      ]
     },
     "execution_count": 4,
     "metadata": {},
     "output_type": "execute_result"
    }
   ],
   "source": [
    "get_seed_location(79)"
   ]
  },
  {
   "cell_type": "code",
   "execution_count": 5,
   "metadata": {},
   "outputs": [
    {
     "name": "stdout",
     "output_type": "stream",
     "text": [
      "seed 3136945476 -> soil 2883091242 -> fertilizer 916334549 -> water 507706136 -> light 641828928 -> temperature 1529000074 -> humidity 1529000074 -> location 1970360194\n",
      "seed 509728956 -> soil 1613571179 -> fertilizer 2886332371 -> water 2747417894 -> light 2791819699 -> temperature 2901526750 -> humidity 3055996092 -> location 4284967572\n",
      "seed 1904897211 -> soil 706652258 -> fertilizer 1732670894 -> water 1815288792 -> light 1443237392 -> temperature 1841689226 -> humidity 1841689226 -> location 1349697036\n",
      "seed 495273540 -> soil 1599115763 -> fertilizer 2871876955 -> water 2732962478 -> light 2777364283 -> temperature 2887071334 -> humidity 3041540676 -> location 4270512156\n",
      "seed 1186343315 -> soil 3310091785 -> fertilizer 3305642745 -> water 4284202461 -> light 4284202461 -> temperature 3388183855 -> humidity 2709431955 -> location 2662535321\n",
      "seed 66026055 -> soil 1169868278 -> fertilizer 2442629470 -> water 3394537841 -> light 3321833705 -> temperature 4096054361 -> humidity 4096054361 -> location 3661808201\n",
      "seed 1381149926 -> soil 182904973 -> fertilizer 1208923609 -> water 1983283989 -> light 1606632696 -> temperature 1088490379 -> humidity 1088490379 -> location 1747424143\n",
      "seed 11379441 -> soil 11379441 -> fertilizer 1037398077 -> water 1357232255 -> light 146486766 -> temperature 848630131 -> humidity 848630131 -> location 111627841\n",
      "seed 4060485949 -> soil 3781613125 -> fertilizer 3855357300 -> water 3283795789 -> light 4127097537 -> temperature 3231078931 -> humidity 3831187358 -> location 3396941198\n",
      "seed 190301545 -> soil 1294143768 -> fertilizer 2566904960 -> water 3518813331 -> light 3871510807 -> temperature 3913150414 -> humidity 3271729004 -> location 2960374691\n",
      "seed 444541979 -> soil 1548384202 -> fertilizer 2821145394 -> water 2682230917 -> light 2726632722 -> temperature 2836339773 -> humidity 2990809115 -> location 2016800657\n",
      "seed 351779229 -> soil 1455621452 -> fertilizer 2728382644 -> water 2589468167 -> light 2633869972 -> temperature 2633869972 -> humidity 2633869972 -> location 2586973338\n",
      "seed 1076140984 -> soil 2596011459 -> fertilizer 48642504 -> water 2151791216 -> light 945504759 -> temperature 2230156354 -> humidity 2230156354 -> location 4055854859\n",
      "seed 104902451 -> soil 1208744674 -> fertilizer 2481505866 -> water 3433414237 -> light 3360710101 -> temperature 4134930757 -> humidity 4134930757 -> location 3245172242\n",
      "seed 264807001 -> soil 1368649224 -> fertilizer 2641410416 -> water 2502495939 -> light 2502495939 -> temperature 1743414808 -> humidity 1743414808 -> location 475615938\n",
      "seed 60556152 -> soil 1164398375 -> fertilizer 2437159567 -> water 3389067938 -> light 3316363802 -> temperature 4090584458 -> humidity 4090584458 -> location 3656338298\n",
      "seed 3676523418 -> soil 4250174751 -> fertilizer 3627047716 -> water 3918044062 -> light 3371363807 -> temperature 4145584463 -> humidity 4145584463 -> location 3255825948\n",
      "seed 44140882 -> soil 44140882 -> fertilizer 1070159518 -> water 1389993696 -> light 179248207 -> temperature 1286998898 -> humidity 1286998898 -> location 1242982568\n",
      "seed 3895155702 -> soil 3616282878 -> fertilizer 3690027053 -> water 3981023399 -> light 3434343144 -> temperature 3590667026 -> humidity 3429027022 -> location 3117672709\n",
      "seed 111080695 -> soil 1214922918 -> fertilizer 2487684110 -> water 3439592481 -> light 3366888345 -> temperature 4141109001 -> humidity 4141109001 -> location 3251350486\n",
      "111627841\n"
     ]
    }
   ],
   "source": [
    "min_location = float('inf')\n",
    "for seed in seeds:\n",
    "    location = get_seed_location(seed)\n",
    "    if location < min_location:\n",
    "        min_location = location\n",
    "\n",
    "print (min_location)"
   ]
  },
  {
   "cell_type": "code",
   "execution_count": 6,
   "metadata": {},
   "outputs": [
    {
     "data": {
      "text/plain": [
       "[(3136945476, 3646674432),\n",
       " (1904897211, 2400170751),\n",
       " (1186343315, 1252369370),\n",
       " (1381149926, 1392529367),\n",
       " (4060485949, 4250787494),\n",
       " (444541979, 796321208),\n",
       " (1076140984, 1181043435),\n",
       " (264807001, 325363153),\n",
       " (3676523418, 3720664300),\n",
       " (3895155702, 4006236397)]"
      ]
     },
     "execution_count": 6,
     "metadata": {},
     "output_type": "execute_result"
    }
   ],
   "source": [
    "seedintervals = [(seeds[i], seeds[i]+seeds[i+1]) for i in range(0,len(seeds),2)]\n",
    "seedintervals"
   ]
  },
  {
   "cell_type": "code",
   "execution_count": 7,
   "metadata": {},
   "outputs": [
    {
     "name": "stdout",
     "output_type": "stream",
     "text": [
      "(3136945476, 3646674432): 3136945476 - 3646674432\n"
     ]
    },
    {
     "data": {
      "text/plain": [
       "[(58715335, 720032349, 1103842223),\n",
       " (720032349, 1113622284, 1519870475),\n",
       " (1113622284, 1126389299, 1525753664),\n",
       " (1126389299, 1256960288, 2123748470),\n",
       " (1256960288, 1940296486, -1198244953),\n",
       " (1940296486, 2351083512, -1188525954),\n",
       " (2351083512, 2356966701, 282409247),\n",
       " (2356966701, 2489968945, 760168824),\n",
       " (2489968945, 2788703865, -666094373),\n",
       " (2788703865, 2905997197, -666094373),\n",
       " (2905997197, 3370989759, -253854234),\n",
       " (3370989759, 3380708758, -2628938226),\n",
       " (3442443139, 3721315963, 573651333),\n",
       " (3721315963, 4294967296, -278872824)]"
      ]
     },
     "execution_count": 7,
     "metadata": {},
     "output_type": "execute_result"
    }
   ],
   "source": [
    "print(f\"{seedintervals[0]}: {seedintervals[0][0]} - {seedintervals[0][1]}\")\n",
    "seedToSoil"
   ]
  },
  {
   "cell_type": "code",
   "execution_count": 8,
   "metadata": {},
   "outputs": [
    {
     "data": {
      "text/plain": [
       "[(2905997197, 3370989759, -253854234),\n",
       " (3370989759, 3380708758, -2628938226),\n",
       " (3442443139, 3721315963, 573651333)]"
      ]
     },
     "execution_count": 8,
     "metadata": {},
     "output_type": "execute_result"
    }
   ],
   "source": [
    "[x for x in seedToSoil if x[1]>seedintervals[0][0] and x[0]<seedintervals[0][1]  ]"
   ]
  },
  {
   "cell_type": "code",
   "execution_count": 9,
   "metadata": {},
   "outputs": [],
   "source": [
    "def fillholes(transformation:list):\n",
    "    transformation.sort(key = lambda x: x[0])\n",
    "\n",
    "    # given a list of ranges (start, stop, adjustment)\n",
    "    # returns a new list that ensures that \n",
    "    #   list[0][0]==0\n",
    "    #   list[i][0]=list[i-1][1] for i>0\n",
    "    result=[]\n",
    "    # add range from 0 if not present\n",
    "    if transformation[0][0] != 0:\n",
    "        result.append( (0,transformation[0][0],0) )\n",
    "    # add first range\n",
    "    result.append(transformation[0])\n",
    "    # add rest of ranges, adding additional ranges to cover all the integer range if needed\n",
    "    for elem in transformation[1:]:\n",
    "        if result[-1][1]<elem[0]:\n",
    "            result.append( (result[-1][1],elem[0],0) )\n",
    "        result.append (elem)\n",
    "    #add final range to infinity if needed\n",
    "    if result[-1][1] != float('inf'):\n",
    "        result.append( (result[-1][1],float('inf'),0) )\n",
    "    return result\n"
   ]
  },
  {
   "cell_type": "code",
   "execution_count": 29,
   "metadata": {},
   "outputs": [],
   "source": [
    "\n",
    "def getdestinationrange(interval, transformation):\n",
    "    # given \n",
    "    # - a single interval with elements (start,stop) \n",
    "    # - a list of transformation intervals without holes, with elements (tstart,tstop, adjustment)\n",
    "    # \n",
    "    # looks for intervals in transformation covering from start to stop\n",
    "    # for the first matching range it generates a range start+adjustment,min(stop,tstop)+adjustment\n",
    "    # for the last matching range it generates a range tstart+adjustment,stop+adjustment\n",
    "    matching_intervals = [x for x in transformation if x[1]>interval[0] and x[0]<interval[1]]\n",
    "    result=[]\n",
    "    for i in range(0,len(matching_intervals)):\n",
    "        tinterval = matching_intervals[i]\n",
    "        adjustment = tinterval[2]\n",
    "        if i==0:\n",
    "            result.append( (interval[0]+adjustment, min(interval[1],tinterval[1])+adjustment, interval[0], min(interval[1],tinterval[1]) ) )\n",
    "        elif i==len(matching_intervals)-1:\n",
    "            result.append( (tinterval[0]+adjustment,interval[1]+adjustment,tinterval[0],interval[1]))\n",
    "        else:\n",
    "            result.append( (tinterval[0]+adjustment,tinterval[1]+adjustment,tinterval[0],tinterval[1]) )\n",
    "    return result"
   ]
  },
  {
   "cell_type": "code",
   "execution_count": 42,
   "metadata": {},
   "outputs": [],
   "source": [
    "def get_all_destinations(intervals, transformation):\n",
    "    result=[]\n",
    "    for interval in intervals:\n",
    "        destinations = getdestinationrange(interval, transformation)\n",
    "        result += destinations\n",
    "    return result"
   ]
  },
  {
   "cell_type": "code",
   "execution_count": 46,
   "metadata": {},
   "outputs": [
    {
     "name": "stdout",
     "output_type": "stream",
     "text": [
      "(3136945476, 3646674432)\n",
      "soil:\n",
      " [(2883091242, 3117135525, 3136945476, 3370989759), (742051533, 751770532, 3370989759, 3380708758), (3380708758, 3442443139, 3380708758, 3442443139), (4016094472, 4220325765, 3442443139, 3646674432)]\n",
      "allsoil:\n",
      " [(2883091242, 3117135525, 3136945476, 3370989759), (742051533, 751770532, 3370989759, 3380708758), (3380708758, 3442443139, 3380708758, 3442443139), (4016094472, 4220325765, 3442443139, 3646674432), (706652258, 742051533, 1904897211, 1940296486), (751770532, 1162557558, 1940296486, 2351083512), (2633492759, 2639375948, 2351083512, 2356966701), (3117135525, 3160339575, 2356966701, 2400170751), (3310091785, 3376117840, 1186343315, 1252369370), (182904973, 194284414, 1381149926, 1392529367), (3781613125, 3971914670, 4060485949, 4250787494), (1548384202, 1823874572, 444541979, 720032349), (2239902824, 2316191683, 720032349, 796321208), (2596011459, 2633492759, 1076140984, 1113622284), (2639375948, 2652142963, 1113622284, 1126389299), (3250137769, 3304791905, 1126389299, 1181043435), (1368649224, 1429205376, 264807001, 325363153), (4250174751, 4294315633, 3676523418, 3720664300), (3616282878, 3727363573, 3895155702, 4006236397)]\n"
     ]
    },
    {
     "data": {
      "text/plain": [
       "69323688"
      ]
     },
     "execution_count": 46,
     "metadata": {},
     "output_type": "execute_result"
    }
   ],
   "source": [
    "# fillholes(fillholes(seedToSoil))\n",
    "print(seedintervals[0])\n",
    "soil= getdestinationrange(seedintervals[0], fillholes(seedToSoil))\n",
    "print(f\"soil:\\n {soil}\")\n",
    "allsoil = get_all_destinations(seedintervals, fillholes(seedToSoil))\n",
    "print(f\"allsoil:\\n {allsoil}\")\n",
    "allfertilizer = get_all_destinations(allsoil, fillholes(soilToFertilizer))\n",
    "allwater = get_all_destinations(allfertilizer, fillholes(fertilizerToWater))\n",
    "alllight = get_all_destinations(allwater, fillholes(waterToLight))\n",
    "alltemp = get_all_destinations(alllight, fillholes(lightToTemperature))\n",
    "allhum = get_all_destinations(alltemp, fillholes(temperatureToHumidity))\n",
    "allloc = get_all_destinations(allhum, fillholes(humidityToLocation))\n",
    "min([x[0] for x in allloc])\n"
   ]
  },
  {
   "cell_type": "code",
   "execution_count": null,
   "metadata": {},
   "outputs": [],
   "source": []
  }
 ],
 "metadata": {
  "kernelspec": {
   "display_name": "Python 3",
   "language": "python",
   "name": "python3"
  },
  "language_info": {
   "codemirror_mode": {
    "name": "ipython",
    "version": 3
   },
   "file_extension": ".py",
   "mimetype": "text/x-python",
   "name": "python",
   "nbconvert_exporter": "python",
   "pygments_lexer": "ipython3",
   "version": "3.10.13"
  }
 },
 "nbformat": 4,
 "nbformat_minor": 2
}
